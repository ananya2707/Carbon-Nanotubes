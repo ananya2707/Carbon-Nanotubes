{
  "nbformat": 4,
  "nbformat_minor": 0,
  "metadata": {
    "colab": {
      "provenance": []
    },
    "kernelspec": {
      "name": "python3",
      "display_name": "Python 3"
    },
    "language_info": {
      "name": "python"
    }
  },
  "cells": [
    {
      "cell_type": "code",
      "source": [
        "#importing all libraries\n",
        "import pandas as pd\n",
        "import numpy as np\n",
        "import matplotlib.pyplot as plt\n",
        "import seaborn as sns\n",
        "from sklearn.preprocessing import StandardScaler\n",
        "from sklearn.linear_model import LinearRegression\n",
        "from sklearn.metrics import mean_squared_error, r2_score\n",
        "from sklearn.linear_model import RANSACRegressor\n",
        "from sklearn.tree import DecisionTreeRegressor\n",
        "from sklearn.svm import SVR\n",
        "from sklearn.model_selection import GridSearchCV"
      ],
      "metadata": {
        "id": "SUeHAGFyTQtI"
      },
      "execution_count": null,
      "outputs": []
    },
    {
      "cell_type": "code",
      "source": [
        "df=pd.read_csv('/content/carbon_nanotubes.csv', sep=';')\n",
        "df.head()"
      ],
      "metadata": {
        "colab": {
          "base_uri": "https://localhost:8080/",
          "height": 223
        },
        "id": "XlpufuIXgOJw",
        "outputId": "d41b046f-f704-441d-ab8c-c02e8a46221a"
      },
      "execution_count": null,
      "outputs": [
        {
          "output_type": "execute_result",
          "data": {
            "text/plain": [
              "   Chiral indice n  Chiral indice m Initial atomic coordinate u  \\\n",
              "0                2                1                    0,679005   \n",
              "1                2                1                    0,717298   \n",
              "2                2                1                    0,489336   \n",
              "3                2                1                    0,413957   \n",
              "4                2                1                    0,334292   \n",
              "\n",
              "  Initial atomic coordinate v Initial atomic coordinate w  \\\n",
              "0                    0,701318                    0,017033   \n",
              "1                    0,642129                    0,231319   \n",
              "2                    0,303751                    0,088462   \n",
              "3                    0,632996                    0,040843   \n",
              "4                    0,543401                     0,15989   \n",
              "\n",
              "  Calculated atomic coordinates u' Calculated atomic coordinates v'  \\\n",
              "0                         0,721039                         0,730232   \n",
              "1                         0,738414                          0,65675   \n",
              "2                         0,477676                         0,263221   \n",
              "3                         0,408823                         0,657897   \n",
              "4                         0,303349                         0,558807   \n",
              "\n",
              "  Calculated atomic coordinates w'  \n",
              "0                         0,017014  \n",
              "1                         0,232369  \n",
              "2                         0,088712  \n",
              "3                         0,039796  \n",
              "4                         0,157373  "
            ],
            "text/html": [
              "\n",
              "  <div id=\"df-00d09a78-a073-4072-893f-e0baede6d093\" class=\"colab-df-container\">\n",
              "    <div>\n",
              "<style scoped>\n",
              "    .dataframe tbody tr th:only-of-type {\n",
              "        vertical-align: middle;\n",
              "    }\n",
              "\n",
              "    .dataframe tbody tr th {\n",
              "        vertical-align: top;\n",
              "    }\n",
              "\n",
              "    .dataframe thead th {\n",
              "        text-align: right;\n",
              "    }\n",
              "</style>\n",
              "<table border=\"1\" class=\"dataframe\">\n",
              "  <thead>\n",
              "    <tr style=\"text-align: right;\">\n",
              "      <th></th>\n",
              "      <th>Chiral indice n</th>\n",
              "      <th>Chiral indice m</th>\n",
              "      <th>Initial atomic coordinate u</th>\n",
              "      <th>Initial atomic coordinate v</th>\n",
              "      <th>Initial atomic coordinate w</th>\n",
              "      <th>Calculated atomic coordinates u'</th>\n",
              "      <th>Calculated atomic coordinates v'</th>\n",
              "      <th>Calculated atomic coordinates w'</th>\n",
              "    </tr>\n",
              "  </thead>\n",
              "  <tbody>\n",
              "    <tr>\n",
              "      <th>0</th>\n",
              "      <td>2</td>\n",
              "      <td>1</td>\n",
              "      <td>0,679005</td>\n",
              "      <td>0,701318</td>\n",
              "      <td>0,017033</td>\n",
              "      <td>0,721039</td>\n",
              "      <td>0,730232</td>\n",
              "      <td>0,017014</td>\n",
              "    </tr>\n",
              "    <tr>\n",
              "      <th>1</th>\n",
              "      <td>2</td>\n",
              "      <td>1</td>\n",
              "      <td>0,717298</td>\n",
              "      <td>0,642129</td>\n",
              "      <td>0,231319</td>\n",
              "      <td>0,738414</td>\n",
              "      <td>0,65675</td>\n",
              "      <td>0,232369</td>\n",
              "    </tr>\n",
              "    <tr>\n",
              "      <th>2</th>\n",
              "      <td>2</td>\n",
              "      <td>1</td>\n",
              "      <td>0,489336</td>\n",
              "      <td>0,303751</td>\n",
              "      <td>0,088462</td>\n",
              "      <td>0,477676</td>\n",
              "      <td>0,263221</td>\n",
              "      <td>0,088712</td>\n",
              "    </tr>\n",
              "    <tr>\n",
              "      <th>3</th>\n",
              "      <td>2</td>\n",
              "      <td>1</td>\n",
              "      <td>0,413957</td>\n",
              "      <td>0,632996</td>\n",
              "      <td>0,040843</td>\n",
              "      <td>0,408823</td>\n",
              "      <td>0,657897</td>\n",
              "      <td>0,039796</td>\n",
              "    </tr>\n",
              "    <tr>\n",
              "      <th>4</th>\n",
              "      <td>2</td>\n",
              "      <td>1</td>\n",
              "      <td>0,334292</td>\n",
              "      <td>0,543401</td>\n",
              "      <td>0,15989</td>\n",
              "      <td>0,303349</td>\n",
              "      <td>0,558807</td>\n",
              "      <td>0,157373</td>\n",
              "    </tr>\n",
              "  </tbody>\n",
              "</table>\n",
              "</div>\n",
              "    <div class=\"colab-df-buttons\">\n",
              "\n",
              "  <div class=\"colab-df-container\">\n",
              "    <button class=\"colab-df-convert\" onclick=\"convertToInteractive('df-00d09a78-a073-4072-893f-e0baede6d093')\"\n",
              "            title=\"Convert this dataframe to an interactive table.\"\n",
              "            style=\"display:none;\">\n",
              "\n",
              "  <svg xmlns=\"http://www.w3.org/2000/svg\" height=\"24px\" viewBox=\"0 -960 960 960\">\n",
              "    <path d=\"M120-120v-720h720v720H120Zm60-500h600v-160H180v160Zm220 220h160v-160H400v160Zm0 220h160v-160H400v160ZM180-400h160v-160H180v160Zm440 0h160v-160H620v160ZM180-180h160v-160H180v160Zm440 0h160v-160H620v160Z\"/>\n",
              "  </svg>\n",
              "    </button>\n",
              "\n",
              "  <style>\n",
              "    .colab-df-container {\n",
              "      display:flex;\n",
              "      gap: 12px;\n",
              "    }\n",
              "\n",
              "    .colab-df-convert {\n",
              "      background-color: #E8F0FE;\n",
              "      border: none;\n",
              "      border-radius: 50%;\n",
              "      cursor: pointer;\n",
              "      display: none;\n",
              "      fill: #1967D2;\n",
              "      height: 32px;\n",
              "      padding: 0 0 0 0;\n",
              "      width: 32px;\n",
              "    }\n",
              "\n",
              "    .colab-df-convert:hover {\n",
              "      background-color: #E2EBFA;\n",
              "      box-shadow: 0px 1px 2px rgba(60, 64, 67, 0.3), 0px 1px 3px 1px rgba(60, 64, 67, 0.15);\n",
              "      fill: #174EA6;\n",
              "    }\n",
              "\n",
              "    .colab-df-buttons div {\n",
              "      margin-bottom: 4px;\n",
              "    }\n",
              "\n",
              "    [theme=dark] .colab-df-convert {\n",
              "      background-color: #3B4455;\n",
              "      fill: #D2E3FC;\n",
              "    }\n",
              "\n",
              "    [theme=dark] .colab-df-convert:hover {\n",
              "      background-color: #434B5C;\n",
              "      box-shadow: 0px 1px 3px 1px rgba(0, 0, 0, 0.15);\n",
              "      filter: drop-shadow(0px 1px 2px rgba(0, 0, 0, 0.3));\n",
              "      fill: #FFFFFF;\n",
              "    }\n",
              "  </style>\n",
              "\n",
              "    <script>\n",
              "      const buttonEl =\n",
              "        document.querySelector('#df-00d09a78-a073-4072-893f-e0baede6d093 button.colab-df-convert');\n",
              "      buttonEl.style.display =\n",
              "        google.colab.kernel.accessAllowed ? 'block' : 'none';\n",
              "\n",
              "      async function convertToInteractive(key) {\n",
              "        const element = document.querySelector('#df-00d09a78-a073-4072-893f-e0baede6d093');\n",
              "        const dataTable =\n",
              "          await google.colab.kernel.invokeFunction('convertToInteractive',\n",
              "                                                    [key], {});\n",
              "        if (!dataTable) return;\n",
              "\n",
              "        const docLinkHtml = 'Like what you see? Visit the ' +\n",
              "          '<a target=\"_blank\" href=https://colab.research.google.com/notebooks/data_table.ipynb>data table notebook</a>'\n",
              "          + ' to learn more about interactive tables.';\n",
              "        element.innerHTML = '';\n",
              "        dataTable['output_type'] = 'display_data';\n",
              "        await google.colab.output.renderOutput(dataTable, element);\n",
              "        const docLink = document.createElement('div');\n",
              "        docLink.innerHTML = docLinkHtml;\n",
              "        element.appendChild(docLink);\n",
              "      }\n",
              "    </script>\n",
              "  </div>\n",
              "\n",
              "\n",
              "<div id=\"df-b084d4b0-dd77-487a-a623-bc4fbbf8850b\">\n",
              "  <button class=\"colab-df-quickchart\" onclick=\"quickchart('df-b084d4b0-dd77-487a-a623-bc4fbbf8850b')\"\n",
              "            title=\"Suggest charts\"\n",
              "            style=\"display:none;\">\n",
              "\n",
              "<svg xmlns=\"http://www.w3.org/2000/svg\" height=\"24px\"viewBox=\"0 0 24 24\"\n",
              "     width=\"24px\">\n",
              "    <g>\n",
              "        <path d=\"M19 3H5c-1.1 0-2 .9-2 2v14c0 1.1.9 2 2 2h14c1.1 0 2-.9 2-2V5c0-1.1-.9-2-2-2zM9 17H7v-7h2v7zm4 0h-2V7h2v10zm4 0h-2v-4h2v4z\"/>\n",
              "    </g>\n",
              "</svg>\n",
              "  </button>\n",
              "\n",
              "<style>\n",
              "  .colab-df-quickchart {\n",
              "      --bg-color: #E8F0FE;\n",
              "      --fill-color: #1967D2;\n",
              "      --hover-bg-color: #E2EBFA;\n",
              "      --hover-fill-color: #174EA6;\n",
              "      --disabled-fill-color: #AAA;\n",
              "      --disabled-bg-color: #DDD;\n",
              "  }\n",
              "\n",
              "  [theme=dark] .colab-df-quickchart {\n",
              "      --bg-color: #3B4455;\n",
              "      --fill-color: #D2E3FC;\n",
              "      --hover-bg-color: #434B5C;\n",
              "      --hover-fill-color: #FFFFFF;\n",
              "      --disabled-bg-color: #3B4455;\n",
              "      --disabled-fill-color: #666;\n",
              "  }\n",
              "\n",
              "  .colab-df-quickchart {\n",
              "    background-color: var(--bg-color);\n",
              "    border: none;\n",
              "    border-radius: 50%;\n",
              "    cursor: pointer;\n",
              "    display: none;\n",
              "    fill: var(--fill-color);\n",
              "    height: 32px;\n",
              "    padding: 0;\n",
              "    width: 32px;\n",
              "  }\n",
              "\n",
              "  .colab-df-quickchart:hover {\n",
              "    background-color: var(--hover-bg-color);\n",
              "    box-shadow: 0 1px 2px rgba(60, 64, 67, 0.3), 0 1px 3px 1px rgba(60, 64, 67, 0.15);\n",
              "    fill: var(--button-hover-fill-color);\n",
              "  }\n",
              "\n",
              "  .colab-df-quickchart-complete:disabled,\n",
              "  .colab-df-quickchart-complete:disabled:hover {\n",
              "    background-color: var(--disabled-bg-color);\n",
              "    fill: var(--disabled-fill-color);\n",
              "    box-shadow: none;\n",
              "  }\n",
              "\n",
              "  .colab-df-spinner {\n",
              "    border: 2px solid var(--fill-color);\n",
              "    border-color: transparent;\n",
              "    border-bottom-color: var(--fill-color);\n",
              "    animation:\n",
              "      spin 1s steps(1) infinite;\n",
              "  }\n",
              "\n",
              "  @keyframes spin {\n",
              "    0% {\n",
              "      border-color: transparent;\n",
              "      border-bottom-color: var(--fill-color);\n",
              "      border-left-color: var(--fill-color);\n",
              "    }\n",
              "    20% {\n",
              "      border-color: transparent;\n",
              "      border-left-color: var(--fill-color);\n",
              "      border-top-color: var(--fill-color);\n",
              "    }\n",
              "    30% {\n",
              "      border-color: transparent;\n",
              "      border-left-color: var(--fill-color);\n",
              "      border-top-color: var(--fill-color);\n",
              "      border-right-color: var(--fill-color);\n",
              "    }\n",
              "    40% {\n",
              "      border-color: transparent;\n",
              "      border-right-color: var(--fill-color);\n",
              "      border-top-color: var(--fill-color);\n",
              "    }\n",
              "    60% {\n",
              "      border-color: transparent;\n",
              "      border-right-color: var(--fill-color);\n",
              "    }\n",
              "    80% {\n",
              "      border-color: transparent;\n",
              "      border-right-color: var(--fill-color);\n",
              "      border-bottom-color: var(--fill-color);\n",
              "    }\n",
              "    90% {\n",
              "      border-color: transparent;\n",
              "      border-bottom-color: var(--fill-color);\n",
              "    }\n",
              "  }\n",
              "</style>\n",
              "\n",
              "  <script>\n",
              "    async function quickchart(key) {\n",
              "      const quickchartButtonEl =\n",
              "        document.querySelector('#' + key + ' button');\n",
              "      quickchartButtonEl.disabled = true;  // To prevent multiple clicks.\n",
              "      quickchartButtonEl.classList.add('colab-df-spinner');\n",
              "      try {\n",
              "        const charts = await google.colab.kernel.invokeFunction(\n",
              "            'suggestCharts', [key], {});\n",
              "      } catch (error) {\n",
              "        console.error('Error during call to suggestCharts:', error);\n",
              "      }\n",
              "      quickchartButtonEl.classList.remove('colab-df-spinner');\n",
              "      quickchartButtonEl.classList.add('colab-df-quickchart-complete');\n",
              "    }\n",
              "    (() => {\n",
              "      let quickchartButtonEl =\n",
              "        document.querySelector('#df-b084d4b0-dd77-487a-a623-bc4fbbf8850b button');\n",
              "      quickchartButtonEl.style.display =\n",
              "        google.colab.kernel.accessAllowed ? 'block' : 'none';\n",
              "    })();\n",
              "  </script>\n",
              "</div>\n",
              "\n",
              "    </div>\n",
              "  </div>\n"
            ],
            "application/vnd.google.colaboratory.intrinsic+json": {
              "type": "dataframe",
              "variable_name": "df",
              "summary": "{\n  \"name\": \"df\",\n  \"rows\": 10721,\n  \"fields\": [\n    {\n      \"column\": \"Chiral indice n\",\n      \"properties\": {\n        \"dtype\": \"number\",\n        \"std\": 2,\n        \"min\": 2,\n        \"max\": 12,\n        \"num_unique_values\": 11,\n        \"samples\": [\n          7,\n          2,\n          11\n        ],\n        \"semantic_type\": \"\",\n        \"description\": \"\"\n      }\n    },\n    {\n      \"column\": \"Chiral indice m\",\n      \"properties\": {\n        \"dtype\": \"number\",\n        \"std\": 1,\n        \"min\": 1,\n        \"max\": 6,\n        \"num_unique_values\": 6,\n        \"samples\": [\n          1,\n          2,\n          6\n        ],\n        \"semantic_type\": \"\",\n        \"description\": \"\"\n      }\n    },\n    {\n      \"column\": \"Initial atomic coordinate u\",\n      \"properties\": {\n        \"dtype\": \"category\",\n        \"num_unique_values\": 4830,\n        \"samples\": [\n          \"0,651991\",\n          \"0,315036\",\n          \"0,626964\"\n        ],\n        \"semantic_type\": \"\",\n        \"description\": \"\"\n      }\n    },\n    {\n      \"column\": \"Initial atomic coordinate v\",\n      \"properties\": {\n        \"dtype\": \"category\",\n        \"num_unique_values\": 4814,\n        \"samples\": [\n          \"0,884798\",\n          \"0,918308\",\n          \"0,283579\"\n        ],\n        \"semantic_type\": \"\",\n        \"description\": \"\"\n      }\n    },\n    {\n      \"column\": \"Initial atomic coordinate w\",\n      \"properties\": {\n        \"dtype\": \"string\",\n        \"num_unique_values\": 7324,\n        \"samples\": [\n          \"0,943186\",\n          \"0,828773\",\n          \"0,970811\"\n        ],\n        \"semantic_type\": \"\",\n        \"description\": \"\"\n      }\n    },\n    {\n      \"column\": \"Calculated atomic coordinates u'\",\n      \"properties\": {\n        \"dtype\": \"string\",\n        \"num_unique_values\": 9458,\n        \"samples\": [\n          \"0,787816\",\n          \"0,858171\",\n          \"0,081713\"\n        ],\n        \"semantic_type\": \"\",\n        \"description\": \"\"\n      }\n    },\n    {\n      \"column\": \"Calculated atomic coordinates v'\",\n      \"properties\": {\n        \"dtype\": \"string\",\n        \"num_unique_values\": 9453,\n        \"samples\": [\n          \"0,449797\",\n          \"0,824353\",\n          \"0,427243\"\n        ],\n        \"semantic_type\": \"\",\n        \"description\": \"\"\n      }\n    },\n    {\n      \"column\": \"Calculated atomic coordinates w'\",\n      \"properties\": {\n        \"dtype\": \"string\",\n        \"num_unique_values\": 9406,\n        \"samples\": [\n          \"0,093428\",\n          \"0,238964\",\n          \"0,659081\"\n        ],\n        \"semantic_type\": \"\",\n        \"description\": \"\"\n      }\n    }\n  ]\n}"
            }
          },
          "metadata": {},
          "execution_count": 81
        }
      ]
    },
    {
      "cell_type": "code",
      "source": [
        "df.shape"
      ],
      "metadata": {
        "colab": {
          "base_uri": "https://localhost:8080/"
        },
        "id": "mhTtAtSOgQil",
        "outputId": "165b66de-d050-42af-a202-37e9de450651"
      },
      "execution_count": null,
      "outputs": [
        {
          "output_type": "execute_result",
          "data": {
            "text/plain": [
              "(10721, 8)"
            ]
          },
          "metadata": {},
          "execution_count": 82
        }
      ]
    },
    {
      "cell_type": "code",
      "source": [
        "df.isna().sum()"
      ],
      "metadata": {
        "id": "eOOjfIxGrpu3",
        "colab": {
          "base_uri": "https://localhost:8080/"
        },
        "outputId": "02cd5d51-696b-401d-de35-0c5a35176b22"
      },
      "execution_count": null,
      "outputs": [
        {
          "output_type": "execute_result",
          "data": {
            "text/plain": [
              "Chiral indice n                     0\n",
              "Chiral indice m                     0\n",
              "Initial atomic coordinate u         0\n",
              "Initial atomic coordinate v         0\n",
              "Initial atomic coordinate w         0\n",
              "Calculated atomic coordinates u'    0\n",
              "Calculated atomic coordinates v'    0\n",
              "Calculated atomic coordinates w'    0\n",
              "dtype: int64"
            ]
          },
          "metadata": {},
          "execution_count": 83
        }
      ]
    },
    {
      "cell_type": "code",
      "source": [
        "df.describe()"
      ],
      "metadata": {
        "colab": {
          "base_uri": "https://localhost:8080/",
          "height": 300
        },
        "id": "Pw7vWMpSg6Vv",
        "outputId": "d26cdff2-ef6a-45f1-fb7f-b2e6666af352"
      },
      "execution_count": null,
      "outputs": [
        {
          "output_type": "execute_result",
          "data": {
            "text/plain": [
              "       Chiral indice n  Chiral indice m\n",
              "count     10721.000000     10721.000000\n",
              "mean          8.225725         3.337189\n",
              "std           2.138919         1.683881\n",
              "min           2.000000         1.000000\n",
              "25%           7.000000         2.000000\n",
              "50%           8.000000         3.000000\n",
              "75%          10.000000         5.000000\n",
              "max          12.000000         6.000000"
            ],
            "text/html": [
              "\n",
              "  <div id=\"df-d1e9c600-5e6b-4a72-8266-c68bfb508455\" class=\"colab-df-container\">\n",
              "    <div>\n",
              "<style scoped>\n",
              "    .dataframe tbody tr th:only-of-type {\n",
              "        vertical-align: middle;\n",
              "    }\n",
              "\n",
              "    .dataframe tbody tr th {\n",
              "        vertical-align: top;\n",
              "    }\n",
              "\n",
              "    .dataframe thead th {\n",
              "        text-align: right;\n",
              "    }\n",
              "</style>\n",
              "<table border=\"1\" class=\"dataframe\">\n",
              "  <thead>\n",
              "    <tr style=\"text-align: right;\">\n",
              "      <th></th>\n",
              "      <th>Chiral indice n</th>\n",
              "      <th>Chiral indice m</th>\n",
              "    </tr>\n",
              "  </thead>\n",
              "  <tbody>\n",
              "    <tr>\n",
              "      <th>count</th>\n",
              "      <td>10721.000000</td>\n",
              "      <td>10721.000000</td>\n",
              "    </tr>\n",
              "    <tr>\n",
              "      <th>mean</th>\n",
              "      <td>8.225725</td>\n",
              "      <td>3.337189</td>\n",
              "    </tr>\n",
              "    <tr>\n",
              "      <th>std</th>\n",
              "      <td>2.138919</td>\n",
              "      <td>1.683881</td>\n",
              "    </tr>\n",
              "    <tr>\n",
              "      <th>min</th>\n",
              "      <td>2.000000</td>\n",
              "      <td>1.000000</td>\n",
              "    </tr>\n",
              "    <tr>\n",
              "      <th>25%</th>\n",
              "      <td>7.000000</td>\n",
              "      <td>2.000000</td>\n",
              "    </tr>\n",
              "    <tr>\n",
              "      <th>50%</th>\n",
              "      <td>8.000000</td>\n",
              "      <td>3.000000</td>\n",
              "    </tr>\n",
              "    <tr>\n",
              "      <th>75%</th>\n",
              "      <td>10.000000</td>\n",
              "      <td>5.000000</td>\n",
              "    </tr>\n",
              "    <tr>\n",
              "      <th>max</th>\n",
              "      <td>12.000000</td>\n",
              "      <td>6.000000</td>\n",
              "    </tr>\n",
              "  </tbody>\n",
              "</table>\n",
              "</div>\n",
              "    <div class=\"colab-df-buttons\">\n",
              "\n",
              "  <div class=\"colab-df-container\">\n",
              "    <button class=\"colab-df-convert\" onclick=\"convertToInteractive('df-d1e9c600-5e6b-4a72-8266-c68bfb508455')\"\n",
              "            title=\"Convert this dataframe to an interactive table.\"\n",
              "            style=\"display:none;\">\n",
              "\n",
              "  <svg xmlns=\"http://www.w3.org/2000/svg\" height=\"24px\" viewBox=\"0 -960 960 960\">\n",
              "    <path d=\"M120-120v-720h720v720H120Zm60-500h600v-160H180v160Zm220 220h160v-160H400v160Zm0 220h160v-160H400v160ZM180-400h160v-160H180v160Zm440 0h160v-160H620v160ZM180-180h160v-160H180v160Zm440 0h160v-160H620v160Z\"/>\n",
              "  </svg>\n",
              "    </button>\n",
              "\n",
              "  <style>\n",
              "    .colab-df-container {\n",
              "      display:flex;\n",
              "      gap: 12px;\n",
              "    }\n",
              "\n",
              "    .colab-df-convert {\n",
              "      background-color: #E8F0FE;\n",
              "      border: none;\n",
              "      border-radius: 50%;\n",
              "      cursor: pointer;\n",
              "      display: none;\n",
              "      fill: #1967D2;\n",
              "      height: 32px;\n",
              "      padding: 0 0 0 0;\n",
              "      width: 32px;\n",
              "    }\n",
              "\n",
              "    .colab-df-convert:hover {\n",
              "      background-color: #E2EBFA;\n",
              "      box-shadow: 0px 1px 2px rgba(60, 64, 67, 0.3), 0px 1px 3px 1px rgba(60, 64, 67, 0.15);\n",
              "      fill: #174EA6;\n",
              "    }\n",
              "\n",
              "    .colab-df-buttons div {\n",
              "      margin-bottom: 4px;\n",
              "    }\n",
              "\n",
              "    [theme=dark] .colab-df-convert {\n",
              "      background-color: #3B4455;\n",
              "      fill: #D2E3FC;\n",
              "    }\n",
              "\n",
              "    [theme=dark] .colab-df-convert:hover {\n",
              "      background-color: #434B5C;\n",
              "      box-shadow: 0px 1px 3px 1px rgba(0, 0, 0, 0.15);\n",
              "      filter: drop-shadow(0px 1px 2px rgba(0, 0, 0, 0.3));\n",
              "      fill: #FFFFFF;\n",
              "    }\n",
              "  </style>\n",
              "\n",
              "    <script>\n",
              "      const buttonEl =\n",
              "        document.querySelector('#df-d1e9c600-5e6b-4a72-8266-c68bfb508455 button.colab-df-convert');\n",
              "      buttonEl.style.display =\n",
              "        google.colab.kernel.accessAllowed ? 'block' : 'none';\n",
              "\n",
              "      async function convertToInteractive(key) {\n",
              "        const element = document.querySelector('#df-d1e9c600-5e6b-4a72-8266-c68bfb508455');\n",
              "        const dataTable =\n",
              "          await google.colab.kernel.invokeFunction('convertToInteractive',\n",
              "                                                    [key], {});\n",
              "        if (!dataTable) return;\n",
              "\n",
              "        const docLinkHtml = 'Like what you see? Visit the ' +\n",
              "          '<a target=\"_blank\" href=https://colab.research.google.com/notebooks/data_table.ipynb>data table notebook</a>'\n",
              "          + ' to learn more about interactive tables.';\n",
              "        element.innerHTML = '';\n",
              "        dataTable['output_type'] = 'display_data';\n",
              "        await google.colab.output.renderOutput(dataTable, element);\n",
              "        const docLink = document.createElement('div');\n",
              "        docLink.innerHTML = docLinkHtml;\n",
              "        element.appendChild(docLink);\n",
              "      }\n",
              "    </script>\n",
              "  </div>\n",
              "\n",
              "\n",
              "<div id=\"df-efd52e5a-000a-4e71-a86f-d08682ea3b43\">\n",
              "  <button class=\"colab-df-quickchart\" onclick=\"quickchart('df-efd52e5a-000a-4e71-a86f-d08682ea3b43')\"\n",
              "            title=\"Suggest charts\"\n",
              "            style=\"display:none;\">\n",
              "\n",
              "<svg xmlns=\"http://www.w3.org/2000/svg\" height=\"24px\"viewBox=\"0 0 24 24\"\n",
              "     width=\"24px\">\n",
              "    <g>\n",
              "        <path d=\"M19 3H5c-1.1 0-2 .9-2 2v14c0 1.1.9 2 2 2h14c1.1 0 2-.9 2-2V5c0-1.1-.9-2-2-2zM9 17H7v-7h2v7zm4 0h-2V7h2v10zm4 0h-2v-4h2v4z\"/>\n",
              "    </g>\n",
              "</svg>\n",
              "  </button>\n",
              "\n",
              "<style>\n",
              "  .colab-df-quickchart {\n",
              "      --bg-color: #E8F0FE;\n",
              "      --fill-color: #1967D2;\n",
              "      --hover-bg-color: #E2EBFA;\n",
              "      --hover-fill-color: #174EA6;\n",
              "      --disabled-fill-color: #AAA;\n",
              "      --disabled-bg-color: #DDD;\n",
              "  }\n",
              "\n",
              "  [theme=dark] .colab-df-quickchart {\n",
              "      --bg-color: #3B4455;\n",
              "      --fill-color: #D2E3FC;\n",
              "      --hover-bg-color: #434B5C;\n",
              "      --hover-fill-color: #FFFFFF;\n",
              "      --disabled-bg-color: #3B4455;\n",
              "      --disabled-fill-color: #666;\n",
              "  }\n",
              "\n",
              "  .colab-df-quickchart {\n",
              "    background-color: var(--bg-color);\n",
              "    border: none;\n",
              "    border-radius: 50%;\n",
              "    cursor: pointer;\n",
              "    display: none;\n",
              "    fill: var(--fill-color);\n",
              "    height: 32px;\n",
              "    padding: 0;\n",
              "    width: 32px;\n",
              "  }\n",
              "\n",
              "  .colab-df-quickchart:hover {\n",
              "    background-color: var(--hover-bg-color);\n",
              "    box-shadow: 0 1px 2px rgba(60, 64, 67, 0.3), 0 1px 3px 1px rgba(60, 64, 67, 0.15);\n",
              "    fill: var(--button-hover-fill-color);\n",
              "  }\n",
              "\n",
              "  .colab-df-quickchart-complete:disabled,\n",
              "  .colab-df-quickchart-complete:disabled:hover {\n",
              "    background-color: var(--disabled-bg-color);\n",
              "    fill: var(--disabled-fill-color);\n",
              "    box-shadow: none;\n",
              "  }\n",
              "\n",
              "  .colab-df-spinner {\n",
              "    border: 2px solid var(--fill-color);\n",
              "    border-color: transparent;\n",
              "    border-bottom-color: var(--fill-color);\n",
              "    animation:\n",
              "      spin 1s steps(1) infinite;\n",
              "  }\n",
              "\n",
              "  @keyframes spin {\n",
              "    0% {\n",
              "      border-color: transparent;\n",
              "      border-bottom-color: var(--fill-color);\n",
              "      border-left-color: var(--fill-color);\n",
              "    }\n",
              "    20% {\n",
              "      border-color: transparent;\n",
              "      border-left-color: var(--fill-color);\n",
              "      border-top-color: var(--fill-color);\n",
              "    }\n",
              "    30% {\n",
              "      border-color: transparent;\n",
              "      border-left-color: var(--fill-color);\n",
              "      border-top-color: var(--fill-color);\n",
              "      border-right-color: var(--fill-color);\n",
              "    }\n",
              "    40% {\n",
              "      border-color: transparent;\n",
              "      border-right-color: var(--fill-color);\n",
              "      border-top-color: var(--fill-color);\n",
              "    }\n",
              "    60% {\n",
              "      border-color: transparent;\n",
              "      border-right-color: var(--fill-color);\n",
              "    }\n",
              "    80% {\n",
              "      border-color: transparent;\n",
              "      border-right-color: var(--fill-color);\n",
              "      border-bottom-color: var(--fill-color);\n",
              "    }\n",
              "    90% {\n",
              "      border-color: transparent;\n",
              "      border-bottom-color: var(--fill-color);\n",
              "    }\n",
              "  }\n",
              "</style>\n",
              "\n",
              "  <script>\n",
              "    async function quickchart(key) {\n",
              "      const quickchartButtonEl =\n",
              "        document.querySelector('#' + key + ' button');\n",
              "      quickchartButtonEl.disabled = true;  // To prevent multiple clicks.\n",
              "      quickchartButtonEl.classList.add('colab-df-spinner');\n",
              "      try {\n",
              "        const charts = await google.colab.kernel.invokeFunction(\n",
              "            'suggestCharts', [key], {});\n",
              "      } catch (error) {\n",
              "        console.error('Error during call to suggestCharts:', error);\n",
              "      }\n",
              "      quickchartButtonEl.classList.remove('colab-df-spinner');\n",
              "      quickchartButtonEl.classList.add('colab-df-quickchart-complete');\n",
              "    }\n",
              "    (() => {\n",
              "      let quickchartButtonEl =\n",
              "        document.querySelector('#df-efd52e5a-000a-4e71-a86f-d08682ea3b43 button');\n",
              "      quickchartButtonEl.style.display =\n",
              "        google.colab.kernel.accessAllowed ? 'block' : 'none';\n",
              "    })();\n",
              "  </script>\n",
              "</div>\n",
              "\n",
              "    </div>\n",
              "  </div>\n"
            ],
            "application/vnd.google.colaboratory.intrinsic+json": {
              "type": "dataframe",
              "summary": "{\n  \"name\": \"df\",\n  \"rows\": 8,\n  \"fields\": [\n    {\n      \"column\": \"Chiral indice n\",\n      \"properties\": {\n        \"dtype\": \"number\",\n        \"std\": 3787.9542144480847,\n        \"min\": 2.0,\n        \"max\": 10721.0,\n        \"num_unique_values\": 8,\n        \"samples\": [\n          8.225725212200354,\n          8.0,\n          10721.0\n        ],\n        \"semantic_type\": \"\",\n        \"description\": \"\"\n      }\n    },\n    {\n      \"column\": \"Chiral indice m\",\n      \"properties\": {\n        \"dtype\": \"number\",\n        \"std\": 3789.334039880248,\n        \"min\": 1.0,\n        \"max\": 10721.0,\n        \"num_unique_values\": 8,\n        \"samples\": [\n          3.337188695084414,\n          3.0,\n          10721.0\n        ],\n        \"semantic_type\": \"\",\n        \"description\": \"\"\n      }\n    }\n  ]\n}"
            }
          },
          "metadata": {},
          "execution_count": 84
        }
      ]
    },
    {
      "cell_type": "code",
      "source": [
        "df.info()"
      ],
      "metadata": {
        "colab": {
          "base_uri": "https://localhost:8080/"
        },
        "id": "cW-2d3URQxEq",
        "outputId": "53839d18-c6c6-4abb-c283-1961b02a1ae9"
      },
      "execution_count": null,
      "outputs": [
        {
          "output_type": "stream",
          "name": "stdout",
          "text": [
            "<class 'pandas.core.frame.DataFrame'>\n",
            "RangeIndex: 10721 entries, 0 to 10720\n",
            "Data columns (total 8 columns):\n",
            " #   Column                            Non-Null Count  Dtype \n",
            "---  ------                            --------------  ----- \n",
            " 0   Chiral indice n                   10721 non-null  int64 \n",
            " 1   Chiral indice m                   10721 non-null  int64 \n",
            " 2   Initial atomic coordinate u       10721 non-null  object\n",
            " 3   Initial atomic coordinate v       10721 non-null  object\n",
            " 4   Initial atomic coordinate w       10721 non-null  object\n",
            " 5   Calculated atomic coordinates u'  10721 non-null  object\n",
            " 6   Calculated atomic coordinates v'  10721 non-null  object\n",
            " 7   Calculated atomic coordinates w'  10721 non-null  object\n",
            "dtypes: int64(2), object(6)\n",
            "memory usage: 670.2+ KB\n"
          ]
        }
      ]
    },
    {
      "cell_type": "code",
      "source": [
        "for column in df.columns:\n",
        "    if df[column].dtype=='object':\n",
        "        df[column] = [float(string.replace(',', '.')) for string in df[column]]\n",
        "\n",
        "df.head()"
      ],
      "metadata": {
        "id": "xp5P3sQBqNqf",
        "colab": {
          "base_uri": "https://localhost:8080/",
          "height": 223
        },
        "outputId": "63b16e3a-78f7-4858-90d5-f3ca9fcd8689"
      },
      "execution_count": null,
      "outputs": [
        {
          "output_type": "execute_result",
          "data": {
            "text/plain": [
              "   Chiral indice n  Chiral indice m  Initial atomic coordinate u  \\\n",
              "0                2                1                     0.679005   \n",
              "1                2                1                     0.717298   \n",
              "2                2                1                     0.489336   \n",
              "3                2                1                     0.413957   \n",
              "4                2                1                     0.334292   \n",
              "\n",
              "   Initial atomic coordinate v  Initial atomic coordinate w  \\\n",
              "0                     0.701318                     0.017033   \n",
              "1                     0.642129                     0.231319   \n",
              "2                     0.303751                     0.088462   \n",
              "3                     0.632996                     0.040843   \n",
              "4                     0.543401                     0.159890   \n",
              "\n",
              "   Calculated atomic coordinates u'  Calculated atomic coordinates v'  \\\n",
              "0                          0.721039                          0.730232   \n",
              "1                          0.738414                          0.656750   \n",
              "2                          0.477676                          0.263221   \n",
              "3                          0.408823                          0.657897   \n",
              "4                          0.303349                          0.558807   \n",
              "\n",
              "   Calculated atomic coordinates w'  \n",
              "0                          0.017014  \n",
              "1                          0.232369  \n",
              "2                          0.088712  \n",
              "3                          0.039796  \n",
              "4                          0.157373  "
            ],
            "text/html": [
              "\n",
              "  <div id=\"df-9d3ca827-537f-4add-9bf5-92582f3772cf\" class=\"colab-df-container\">\n",
              "    <div>\n",
              "<style scoped>\n",
              "    .dataframe tbody tr th:only-of-type {\n",
              "        vertical-align: middle;\n",
              "    }\n",
              "\n",
              "    .dataframe tbody tr th {\n",
              "        vertical-align: top;\n",
              "    }\n",
              "\n",
              "    .dataframe thead th {\n",
              "        text-align: right;\n",
              "    }\n",
              "</style>\n",
              "<table border=\"1\" class=\"dataframe\">\n",
              "  <thead>\n",
              "    <tr style=\"text-align: right;\">\n",
              "      <th></th>\n",
              "      <th>Chiral indice n</th>\n",
              "      <th>Chiral indice m</th>\n",
              "      <th>Initial atomic coordinate u</th>\n",
              "      <th>Initial atomic coordinate v</th>\n",
              "      <th>Initial atomic coordinate w</th>\n",
              "      <th>Calculated atomic coordinates u'</th>\n",
              "      <th>Calculated atomic coordinates v'</th>\n",
              "      <th>Calculated atomic coordinates w'</th>\n",
              "    </tr>\n",
              "  </thead>\n",
              "  <tbody>\n",
              "    <tr>\n",
              "      <th>0</th>\n",
              "      <td>2</td>\n",
              "      <td>1</td>\n",
              "      <td>0.679005</td>\n",
              "      <td>0.701318</td>\n",
              "      <td>0.017033</td>\n",
              "      <td>0.721039</td>\n",
              "      <td>0.730232</td>\n",
              "      <td>0.017014</td>\n",
              "    </tr>\n",
              "    <tr>\n",
              "      <th>1</th>\n",
              "      <td>2</td>\n",
              "      <td>1</td>\n",
              "      <td>0.717298</td>\n",
              "      <td>0.642129</td>\n",
              "      <td>0.231319</td>\n",
              "      <td>0.738414</td>\n",
              "      <td>0.656750</td>\n",
              "      <td>0.232369</td>\n",
              "    </tr>\n",
              "    <tr>\n",
              "      <th>2</th>\n",
              "      <td>2</td>\n",
              "      <td>1</td>\n",
              "      <td>0.489336</td>\n",
              "      <td>0.303751</td>\n",
              "      <td>0.088462</td>\n",
              "      <td>0.477676</td>\n",
              "      <td>0.263221</td>\n",
              "      <td>0.088712</td>\n",
              "    </tr>\n",
              "    <tr>\n",
              "      <th>3</th>\n",
              "      <td>2</td>\n",
              "      <td>1</td>\n",
              "      <td>0.413957</td>\n",
              "      <td>0.632996</td>\n",
              "      <td>0.040843</td>\n",
              "      <td>0.408823</td>\n",
              "      <td>0.657897</td>\n",
              "      <td>0.039796</td>\n",
              "    </tr>\n",
              "    <tr>\n",
              "      <th>4</th>\n",
              "      <td>2</td>\n",
              "      <td>1</td>\n",
              "      <td>0.334292</td>\n",
              "      <td>0.543401</td>\n",
              "      <td>0.159890</td>\n",
              "      <td>0.303349</td>\n",
              "      <td>0.558807</td>\n",
              "      <td>0.157373</td>\n",
              "    </tr>\n",
              "  </tbody>\n",
              "</table>\n",
              "</div>\n",
              "    <div class=\"colab-df-buttons\">\n",
              "\n",
              "  <div class=\"colab-df-container\">\n",
              "    <button class=\"colab-df-convert\" onclick=\"convertToInteractive('df-9d3ca827-537f-4add-9bf5-92582f3772cf')\"\n",
              "            title=\"Convert this dataframe to an interactive table.\"\n",
              "            style=\"display:none;\">\n",
              "\n",
              "  <svg xmlns=\"http://www.w3.org/2000/svg\" height=\"24px\" viewBox=\"0 -960 960 960\">\n",
              "    <path d=\"M120-120v-720h720v720H120Zm60-500h600v-160H180v160Zm220 220h160v-160H400v160Zm0 220h160v-160H400v160ZM180-400h160v-160H180v160Zm440 0h160v-160H620v160ZM180-180h160v-160H180v160Zm440 0h160v-160H620v160Z\"/>\n",
              "  </svg>\n",
              "    </button>\n",
              "\n",
              "  <style>\n",
              "    .colab-df-container {\n",
              "      display:flex;\n",
              "      gap: 12px;\n",
              "    }\n",
              "\n",
              "    .colab-df-convert {\n",
              "      background-color: #E8F0FE;\n",
              "      border: none;\n",
              "      border-radius: 50%;\n",
              "      cursor: pointer;\n",
              "      display: none;\n",
              "      fill: #1967D2;\n",
              "      height: 32px;\n",
              "      padding: 0 0 0 0;\n",
              "      width: 32px;\n",
              "    }\n",
              "\n",
              "    .colab-df-convert:hover {\n",
              "      background-color: #E2EBFA;\n",
              "      box-shadow: 0px 1px 2px rgba(60, 64, 67, 0.3), 0px 1px 3px 1px rgba(60, 64, 67, 0.15);\n",
              "      fill: #174EA6;\n",
              "    }\n",
              "\n",
              "    .colab-df-buttons div {\n",
              "      margin-bottom: 4px;\n",
              "    }\n",
              "\n",
              "    [theme=dark] .colab-df-convert {\n",
              "      background-color: #3B4455;\n",
              "      fill: #D2E3FC;\n",
              "    }\n",
              "\n",
              "    [theme=dark] .colab-df-convert:hover {\n",
              "      background-color: #434B5C;\n",
              "      box-shadow: 0px 1px 3px 1px rgba(0, 0, 0, 0.15);\n",
              "      filter: drop-shadow(0px 1px 2px rgba(0, 0, 0, 0.3));\n",
              "      fill: #FFFFFF;\n",
              "    }\n",
              "  </style>\n",
              "\n",
              "    <script>\n",
              "      const buttonEl =\n",
              "        document.querySelector('#df-9d3ca827-537f-4add-9bf5-92582f3772cf button.colab-df-convert');\n",
              "      buttonEl.style.display =\n",
              "        google.colab.kernel.accessAllowed ? 'block' : 'none';\n",
              "\n",
              "      async function convertToInteractive(key) {\n",
              "        const element = document.querySelector('#df-9d3ca827-537f-4add-9bf5-92582f3772cf');\n",
              "        const dataTable =\n",
              "          await google.colab.kernel.invokeFunction('convertToInteractive',\n",
              "                                                    [key], {});\n",
              "        if (!dataTable) return;\n",
              "\n",
              "        const docLinkHtml = 'Like what you see? Visit the ' +\n",
              "          '<a target=\"_blank\" href=https://colab.research.google.com/notebooks/data_table.ipynb>data table notebook</a>'\n",
              "          + ' to learn more about interactive tables.';\n",
              "        element.innerHTML = '';\n",
              "        dataTable['output_type'] = 'display_data';\n",
              "        await google.colab.output.renderOutput(dataTable, element);\n",
              "        const docLink = document.createElement('div');\n",
              "        docLink.innerHTML = docLinkHtml;\n",
              "        element.appendChild(docLink);\n",
              "      }\n",
              "    </script>\n",
              "  </div>\n",
              "\n",
              "\n",
              "<div id=\"df-a4fc078a-1aac-4421-b4d0-aee87fecfda8\">\n",
              "  <button class=\"colab-df-quickchart\" onclick=\"quickchart('df-a4fc078a-1aac-4421-b4d0-aee87fecfda8')\"\n",
              "            title=\"Suggest charts\"\n",
              "            style=\"display:none;\">\n",
              "\n",
              "<svg xmlns=\"http://www.w3.org/2000/svg\" height=\"24px\"viewBox=\"0 0 24 24\"\n",
              "     width=\"24px\">\n",
              "    <g>\n",
              "        <path d=\"M19 3H5c-1.1 0-2 .9-2 2v14c0 1.1.9 2 2 2h14c1.1 0 2-.9 2-2V5c0-1.1-.9-2-2-2zM9 17H7v-7h2v7zm4 0h-2V7h2v10zm4 0h-2v-4h2v4z\"/>\n",
              "    </g>\n",
              "</svg>\n",
              "  </button>\n",
              "\n",
              "<style>\n",
              "  .colab-df-quickchart {\n",
              "      --bg-color: #E8F0FE;\n",
              "      --fill-color: #1967D2;\n",
              "      --hover-bg-color: #E2EBFA;\n",
              "      --hover-fill-color: #174EA6;\n",
              "      --disabled-fill-color: #AAA;\n",
              "      --disabled-bg-color: #DDD;\n",
              "  }\n",
              "\n",
              "  [theme=dark] .colab-df-quickchart {\n",
              "      --bg-color: #3B4455;\n",
              "      --fill-color: #D2E3FC;\n",
              "      --hover-bg-color: #434B5C;\n",
              "      --hover-fill-color: #FFFFFF;\n",
              "      --disabled-bg-color: #3B4455;\n",
              "      --disabled-fill-color: #666;\n",
              "  }\n",
              "\n",
              "  .colab-df-quickchart {\n",
              "    background-color: var(--bg-color);\n",
              "    border: none;\n",
              "    border-radius: 50%;\n",
              "    cursor: pointer;\n",
              "    display: none;\n",
              "    fill: var(--fill-color);\n",
              "    height: 32px;\n",
              "    padding: 0;\n",
              "    width: 32px;\n",
              "  }\n",
              "\n",
              "  .colab-df-quickchart:hover {\n",
              "    background-color: var(--hover-bg-color);\n",
              "    box-shadow: 0 1px 2px rgba(60, 64, 67, 0.3), 0 1px 3px 1px rgba(60, 64, 67, 0.15);\n",
              "    fill: var(--button-hover-fill-color);\n",
              "  }\n",
              "\n",
              "  .colab-df-quickchart-complete:disabled,\n",
              "  .colab-df-quickchart-complete:disabled:hover {\n",
              "    background-color: var(--disabled-bg-color);\n",
              "    fill: var(--disabled-fill-color);\n",
              "    box-shadow: none;\n",
              "  }\n",
              "\n",
              "  .colab-df-spinner {\n",
              "    border: 2px solid var(--fill-color);\n",
              "    border-color: transparent;\n",
              "    border-bottom-color: var(--fill-color);\n",
              "    animation:\n",
              "      spin 1s steps(1) infinite;\n",
              "  }\n",
              "\n",
              "  @keyframes spin {\n",
              "    0% {\n",
              "      border-color: transparent;\n",
              "      border-bottom-color: var(--fill-color);\n",
              "      border-left-color: var(--fill-color);\n",
              "    }\n",
              "    20% {\n",
              "      border-color: transparent;\n",
              "      border-left-color: var(--fill-color);\n",
              "      border-top-color: var(--fill-color);\n",
              "    }\n",
              "    30% {\n",
              "      border-color: transparent;\n",
              "      border-left-color: var(--fill-color);\n",
              "      border-top-color: var(--fill-color);\n",
              "      border-right-color: var(--fill-color);\n",
              "    }\n",
              "    40% {\n",
              "      border-color: transparent;\n",
              "      border-right-color: var(--fill-color);\n",
              "      border-top-color: var(--fill-color);\n",
              "    }\n",
              "    60% {\n",
              "      border-color: transparent;\n",
              "      border-right-color: var(--fill-color);\n",
              "    }\n",
              "    80% {\n",
              "      border-color: transparent;\n",
              "      border-right-color: var(--fill-color);\n",
              "      border-bottom-color: var(--fill-color);\n",
              "    }\n",
              "    90% {\n",
              "      border-color: transparent;\n",
              "      border-bottom-color: var(--fill-color);\n",
              "    }\n",
              "  }\n",
              "</style>\n",
              "\n",
              "  <script>\n",
              "    async function quickchart(key) {\n",
              "      const quickchartButtonEl =\n",
              "        document.querySelector('#' + key + ' button');\n",
              "      quickchartButtonEl.disabled = true;  // To prevent multiple clicks.\n",
              "      quickchartButtonEl.classList.add('colab-df-spinner');\n",
              "      try {\n",
              "        const charts = await google.colab.kernel.invokeFunction(\n",
              "            'suggestCharts', [key], {});\n",
              "      } catch (error) {\n",
              "        console.error('Error during call to suggestCharts:', error);\n",
              "      }\n",
              "      quickchartButtonEl.classList.remove('colab-df-spinner');\n",
              "      quickchartButtonEl.classList.add('colab-df-quickchart-complete');\n",
              "    }\n",
              "    (() => {\n",
              "      let quickchartButtonEl =\n",
              "        document.querySelector('#df-a4fc078a-1aac-4421-b4d0-aee87fecfda8 button');\n",
              "      quickchartButtonEl.style.display =\n",
              "        google.colab.kernel.accessAllowed ? 'block' : 'none';\n",
              "    })();\n",
              "  </script>\n",
              "</div>\n",
              "\n",
              "    </div>\n",
              "  </div>\n"
            ],
            "application/vnd.google.colaboratory.intrinsic+json": {
              "type": "dataframe",
              "variable_name": "df",
              "summary": "{\n  \"name\": \"df\",\n  \"rows\": 10721,\n  \"fields\": [\n    {\n      \"column\": \"Chiral indice n\",\n      \"properties\": {\n        \"dtype\": \"number\",\n        \"std\": 2,\n        \"min\": 2,\n        \"max\": 12,\n        \"num_unique_values\": 11,\n        \"samples\": [\n          7,\n          2,\n          11\n        ],\n        \"semantic_type\": \"\",\n        \"description\": \"\"\n      }\n    },\n    {\n      \"column\": \"Chiral indice m\",\n      \"properties\": {\n        \"dtype\": \"number\",\n        \"std\": 1,\n        \"min\": 1,\n        \"max\": 6,\n        \"num_unique_values\": 6,\n        \"samples\": [\n          1,\n          2,\n          6\n        ],\n        \"semantic_type\": \"\",\n        \"description\": \"\"\n      }\n    },\n    {\n      \"column\": \"Initial atomic coordinate u\",\n      \"properties\": {\n        \"dtype\": \"number\",\n        \"std\": 0.28652418260165985,\n        \"min\": 0.045149,\n        \"max\": 0.954851,\n        \"num_unique_values\": 4830,\n        \"samples\": [\n          0.651991,\n          0.315036,\n          0.626964\n        ],\n        \"semantic_type\": \"\",\n        \"description\": \"\"\n      }\n    },\n    {\n      \"column\": \"Initial atomic coordinate v\",\n      \"properties\": {\n        \"dtype\": \"number\",\n        \"std\": 0.286495421685226,\n        \"min\": 0.045149,\n        \"max\": 0.954851,\n        \"num_unique_values\": 4814,\n        \"samples\": [\n          0.884798,\n          0.918308,\n          0.283579\n        ],\n        \"semantic_type\": \"\",\n        \"description\": \"\"\n      }\n    },\n    {\n      \"column\": \"Initial atomic coordinate w\",\n      \"properties\": {\n        \"dtype\": \"number\",\n        \"std\": 0.2885025606626976,\n        \"min\": 6.1e-05,\n        \"max\": 0.999411,\n        \"num_unique_values\": 7324,\n        \"samples\": [\n          0.943186,\n          0.828773,\n          0.970811\n        ],\n        \"semantic_type\": \"\",\n        \"description\": \"\"\n      }\n    },\n    {\n      \"column\": \"Calculated atomic coordinates u'\",\n      \"properties\": {\n        \"dtype\": \"number\",\n        \"std\": 0.29093487694907416,\n        \"min\": 0.038504,\n        \"max\": 0.961496,\n        \"num_unique_values\": 9458,\n        \"samples\": [\n          0.787816,\n          0.858171,\n          0.081713\n        ],\n        \"semantic_type\": \"\",\n        \"description\": \"\"\n      }\n    },\n    {\n      \"column\": \"Calculated atomic coordinates v'\",\n      \"properties\": {\n        \"dtype\": \"number\",\n        \"std\": 0.29101186533053247,\n        \"min\": 0.03893,\n        \"max\": 0.96107,\n        \"num_unique_values\": 9453,\n        \"samples\": [\n          0.449797,\n          0.824353,\n          0.427243\n        ],\n        \"semantic_type\": \"\",\n        \"description\": \"\"\n      }\n    },\n    {\n      \"column\": \"Calculated atomic coordinates w'\",\n      \"properties\": {\n        \"dtype\": \"number\",\n        \"std\": 0.2890945591549538,\n        \"min\": 0.0,\n        \"max\": 1.0,\n        \"num_unique_values\": 9406,\n        \"samples\": [\n          0.093428,\n          0.238964,\n          0.659081\n        ],\n        \"semantic_type\": \"\",\n        \"description\": \"\"\n      }\n    }\n  ]\n}"
            }
          },
          "metadata": {},
          "execution_count": 86
        }
      ]
    },
    {
      "cell_type": "code",
      "source": [
        "df.info()"
      ],
      "metadata": {
        "colab": {
          "base_uri": "https://localhost:8080/"
        },
        "id": "fbfYv_qkQ58K",
        "outputId": "167de5b7-0767-4717-b2dc-edf04a86a4f6"
      },
      "execution_count": null,
      "outputs": [
        {
          "output_type": "stream",
          "name": "stdout",
          "text": [
            "<class 'pandas.core.frame.DataFrame'>\n",
            "RangeIndex: 10721 entries, 0 to 10720\n",
            "Data columns (total 8 columns):\n",
            " #   Column                            Non-Null Count  Dtype  \n",
            "---  ------                            --------------  -----  \n",
            " 0   Chiral indice n                   10721 non-null  int64  \n",
            " 1   Chiral indice m                   10721 non-null  int64  \n",
            " 2   Initial atomic coordinate u       10721 non-null  float64\n",
            " 3   Initial atomic coordinate v       10721 non-null  float64\n",
            " 4   Initial atomic coordinate w       10721 non-null  float64\n",
            " 5   Calculated atomic coordinates u'  10721 non-null  float64\n",
            " 6   Calculated atomic coordinates v'  10721 non-null  float64\n",
            " 7   Calculated atomic coordinates w'  10721 non-null  float64\n",
            "dtypes: float64(6), int64(2)\n",
            "memory usage: 670.2 KB\n"
          ]
        }
      ]
    },
    {
      "cell_type": "code",
      "source": [
        "#Data visualisation"
      ],
      "metadata": {
        "id": "vow9NCCJSKJi"
      },
      "execution_count": null,
      "outputs": []
    },
    {
      "cell_type": "code",
      "source": [
        "# Calculate the correlation matrix\n",
        "correlation_matrix = df.corr()\n",
        "\n",
        "# Plot a heatmap of the correlation matrix\n",
        "fig, ax = plt.subplots(figsize=(10, 8))\n",
        "sns.heatmap(correlation_matrix, annot=True, cmap='coolwarm', linewidths=0.5, ax=ax)\n",
        "plt.show()"
      ],
      "metadata": {
        "colab": {
          "base_uri": "https://localhost:8080/",
          "height": 899
        },
        "id": "d9lW2iWdAvmj",
        "outputId": "3d8513d7-3aa8-4e28-fede-35f5d8072b5d"
      },
      "execution_count": null,
      "outputs": [
        {
          "output_type": "display_data",
          "data": {
            "text/plain": [
              "<Figure size 1000x800 with 2 Axes>"
            ],
            "image/png": "[encoded data removed]"
          },
          "metadata": {}
        }
      ]
    },
    {
      "cell_type": "code",
      "source": [
        "import seaborn as sns\n",
        "import matplotlib.pyplot as plt\n",
        "sns.histplot(x='Calculated atomic coordinates u\\'', data=df)\n",
        "plt.show()"
      ],
      "metadata": {
        "id": "G-gF5bjaSM8J",
        "colab": {
          "base_uri": "https://localhost:8080/",
          "height": 449
        },
        "outputId": "8983020e-c6ea-4fc7-9139-1a8e0bd38405"
      },
      "execution_count": null,
      "outputs": [
        {
          "output_type": "display_data",
          "data": {
            "text/plain": [
              "<Figure size 640x480 with 1 Axes>"
            ],
            "image/png": "[encoded data removed]"
          },
          "metadata": {}
        }
      ]
    },
    {
      "cell_type": "code",
      "source": [
        "import seaborn as sns\n",
        "import matplotlib.pyplot as plt\n",
        "sns.histplot(x='Calculated atomic coordinates v\\'', data=df)\n",
        "plt.show()"
      ],
      "metadata": {
        "id": "sGKz0R0RSf2K",
        "colab": {
          "base_uri": "https://localhost:8080/",
          "height": 449
        },
        "outputId": "04236dcf-7084-4381-a098-7890feb44dd7"
      },
      "execution_count": null,
      "outputs": [
        {
          "output_type": "display_data",
          "data": {
            "text/plain": [
              "<Figure size 640x480 with 1 Axes>"
            ],
            "image/png": "[encoded data removed]"
          },
          "metadata": {}
        }
      ]
    },
    {
      "cell_type": "code",
      "source": [
        "import seaborn as sns\n",
        "import matplotlib.pyplot as plt\n",
        "sns.histplot(x='Calculated atomic coordinates w\\'', data=df)\n",
        "plt.show()"
      ],
      "metadata": {
        "id": "kcNWPnBlShzG",
        "colab": {
          "base_uri": "https://localhost:8080/",
          "height": 454
        },
        "outputId": "74ed2497-a298-44ac-c371-4288ea7b781d"
      },
      "execution_count": null,
      "outputs": [
        {
          "output_type": "display_data",
          "data": {
            "text/plain": [
              "<Figure size 640x480 with 1 Axes>"
            ],
            "image/png": "[encoded data removed]"
          },
          "metadata": {}
        }
      ]
    },
    {
      "cell_type": "code",
      "source": [
        "target = df.iloc[:, -3]\n",
        "input = df.iloc[:, :-3]\n",
        "print(target.shape)\n",
        "print(input.shape)"
      ],
      "metadata": {
        "id": "6U4c_rIhcBak",
        "colab": {
          "base_uri": "https://localhost:8080/"
        },
        "outputId": "79c7cf8e-864a-4db2-cb75-bf61ba52c6b3"
      },
      "execution_count": null,
      "outputs": [
        {
          "output_type": "stream",
          "name": "stdout",
          "text": [
            "(10721,)\n",
            "(10721, 5)\n"
          ]
        }
      ]
    },
    {
      "cell_type": "code",
      "source": [
        "from sklearn.model_selection import train_test_split\n",
        "x_train, x_test, y_train, y_test=train_test_split(input, target, test_size=0.3)\n",
        "print(x_train.shape)\n",
        "print(x_test.shape)"
      ],
      "metadata": {
        "id": "H_vMtqYag4lH",
        "colab": {
          "base_uri": "https://localhost:8080/"
        },
        "outputId": "bfc9723e-595f-4304-d41d-d8e637c0ebf4"
      },
      "execution_count": null,
      "outputs": [
        {
          "output_type": "stream",
          "name": "stdout",
          "text": [
            "(7504, 5)\n",
            "(3217, 5)\n"
          ]
        }
      ]
    },
    {
      "cell_type": "code",
      "source": [
        "from sklearn.preprocessing import StandardScaler\n",
        "sc=StandardScaler()\n",
        "x_train_std=sc.fit_transform(x_train)\n",
        "x_test_std=sc.fit_transform(x_test)"
      ],
      "metadata": {
        "id": "EauMrJ_vg7_C"
      },
      "execution_count": null,
      "outputs": []
    },
    {
      "cell_type": "code",
      "source": [
        "from sklearn.linear_model import LinearRegression\n",
        "lr=LinearRegression()\n",
        "lr.fit(x_train_std, y_train)"
      ],
      "metadata": {
        "id": "HQ1HXcvz9n0Z",
        "colab": {
          "base_uri": "https://localhost:8080/",
          "height": 74
        },
        "outputId": "e2c2b938-4649-417c-af33-426fb29a2f4e"
      },
      "execution_count": null,
      "outputs": [
        {
          "output_type": "execute_result",
          "data": {
            "text/plain": [
              "LinearRegression()"
            ],
            "text/html": [
              "<style>#sk-container-id-6 {color: black;background-color: white;}#sk-container-id-6 pre{padding: 0;}#sk-container-id-6 div.sk-toggleable {background-color: white;}#sk-container-id-6 label.sk-toggleable__label {cursor: pointer;display: block;width: 100%;margin-bottom: 0;padding: 0.3em;box-sizing: border-box;text-align: center;}#sk-container-id-6 label.sk-toggleable__label-arrow:before {content: \"▸\";float: left;margin-right: 0.25em;color: #696969;}#sk-container-id-6 label.sk-toggleable__label-arrow:hover:before {color: black;}#sk-container-id-6 div.sk-estimator:hover label.sk-toggleable__label-arrow:before {color: black;}#sk-container-id-6 div.sk-toggleable__content {max-height: 0;max-width: 0;overflow: hidden;text-align: left;background-color: #f0f8ff;}#sk-container-id-6 div.sk-toggleable__content pre {margin: 0.2em;color: black;border-radius: 0.25em;background-color: #f0f8ff;}#sk-container-id-6 input.sk-toggleable__control:checked~div.sk-toggleable__content {max-height: 200px;max-width: 100%;overflow: auto;}#sk-container-id-6 input.sk-toggleable__control:checked~label.sk-toggleable__label-arrow:before {content: \"▾\";}#sk-container-id-6 div.sk-estimator input.sk-toggleable__control:checked~label.sk-toggleable__label {background-color: #d4ebff;}#sk-container-id-6 div.sk-label input.sk-toggleable__control:checked~label.sk-toggleable__label {background-color: #d4ebff;}#sk-container-id-6 input.sk-hidden--visually {border: 0;clip: rect(1px 1px 1px 1px);clip: rect(1px, 1px, 1px, 1px);height: 1px;margin: -1px;overflow: hidden;padding: 0;position: absolute;width: 1px;}#sk-container-id-6 div.sk-estimator {font-family: monospace;background-color: #f0f8ff;border: 1px dotted black;border-radius: 0.25em;box-sizing: border-box;margin-bottom: 0.5em;}#sk-container-id-6 div.sk-estimator:hover {background-color: #d4ebff;}#sk-container-id-6 div.sk-parallel-item::after {content: \"\";width: 100%;border-bottom: 1px solid gray;flex-grow: 1;}#sk-container-id-6 div.sk-label:hover label.sk-toggleable__label {background-color: #d4ebff;}#sk-container-id-6 div.sk-serial::before {content: \"\";position: absolute;border-left: 1px solid gray;box-sizing: border-box;top: 0;bottom: 0;left: 50%;z-index: 0;}#sk-container-id-6 div.sk-serial {display: flex;flex-direction: column;align-items: center;background-color: white;padding-right: 0.2em;padding-left: 0.2em;position: relative;}#sk-container-id-6 div.sk-item {position: relative;z-index: 1;}#sk-container-id-6 div.sk-parallel {display: flex;align-items: stretch;justify-content: center;background-color: white;position: relative;}#sk-container-id-6 div.sk-item::before, #sk-container-id-6 div.sk-parallel-item::before {content: \"\";position: absolute;border-left: 1px solid gray;box-sizing: border-box;top: 0;bottom: 0;left: 50%;z-index: -1;}#sk-container-id-6 div.sk-parallel-item {display: flex;flex-direction: column;z-index: 1;position: relative;background-color: white;}#sk-container-id-6 div.sk-parallel-item:first-child::after {align-self: flex-end;width: 50%;}#sk-container-id-6 div.sk-parallel-item:last-child::after {align-self: flex-start;width: 50%;}#sk-container-id-6 div.sk-parallel-item:only-child::after {width: 0;}#sk-container-id-6 div.sk-dashed-wrapped {border: 1px dashed gray;margin: 0 0.4em 0.5em 0.4em;box-sizing: border-box;padding-bottom: 0.4em;background-color: white;}#sk-container-id-6 div.sk-label label {font-family: monospace;font-weight: bold;display: inline-block;line-height: 1.2em;}#sk-container-id-6 div.sk-label-container {text-align: center;}#sk-container-id-6 div.sk-container {/* jupyter's `normalize.less` sets `[hidden] { display: none; }` but bootstrap.min.css set `[hidden] { display: none !important; }` so we also need the `!important` here to be able to override the default hidden behavior on the sphinx rendered scikit-learn.org. See: https://github.com/scikit-learn/scikit-learn/issues/21755 */display: inline-block !important;position: relative;}#sk-container-id-6 div.sk-text-repr-fallback {display: none;}</style><div id=\"sk-container-id-6\" class=\"sk-top-container\"><div class=\"sk-text-repr-fallback\"><pre>LinearRegression()</pre><b>In a Jupyter environment, please rerun this cell to show the HTML representation or trust the notebook. <br />On GitHub, the HTML representation is unable to render, please try loading this page with nbviewer.org.</b></div><div class=\"sk-container\" hidden><div class=\"sk-item\"><div class=\"sk-estimator sk-toggleable\"><input class=\"sk-toggleable__control sk-hidden--visually\" id=\"sk-estimator-id-12\" type=\"checkbox\" checked><label for=\"sk-estimator-id-12\" class=\"sk-toggleable__label sk-toggleable__label-arrow\">LinearRegression</label><div class=\"sk-toggleable__content\"><pre>LinearRegression()</pre></div></div></div></div></div>"
            ]
          },
          "metadata": {},
          "execution_count": 96
        }
      ]
    },
    {
      "cell_type": "code",
      "source": [
        "lr_train_result=lr.predict(x_train_std)\n",
        "lr_test_result=lr.predict(x_test_std)"
      ],
      "metadata": {
        "id": "r65rAzMX1OW-"
      },
      "execution_count": null,
      "outputs": []
    },
    {
      "cell_type": "code",
      "source": [
        "from sklearn.metrics import mean_squared_error, r2_score\n",
        "print('Training results: ')\n",
        "lr_train_mse = mean_squared_error(y_train, lr_train_result)\n",
        "print(\"MSE: \", lr_train_mse)\n",
        "lr_train_r2 = r2_score(y_train, lr_train_result)\n",
        "print(\"R2_score: \", lr_train_r2)\n",
        "print('Testing results: ')\n",
        "lr_test_mse=mean_squared_error(y_test, lr_test_result)\n",
        "print(\"MSE: \", lr_test_mse)\n",
        "lr_test_r2=r2_score(y_test, lr_test_result)\n",
        "print(\"R2_score: \", lr_test_r2)"
      ],
      "metadata": {
        "id": "OQSlbmwe1Tbm",
        "colab": {
          "base_uri": "https://localhost:8080/"
        },
        "outputId": "e3b4e6b4-5678-4b73-a42a-3ba1ef5cd2de"
      },
      "execution_count": null,
      "outputs": [
        {
          "output_type": "stream",
          "name": "stdout",
          "text": [
            "Training results: \n",
            "MSE:  1.4280433334619471e-05\n",
            "R2_score:  0.999832104697807\n",
            "Testing results: \n",
            "MSE:  0.00010178929815407621\n",
            "R2_score:  0.9987823892288538\n"
          ]
        }
      ]
    },
    {
      "cell_type": "code",
      "source": [
        "from sklearn.linear_model import RANSACRegressor\n",
        "ransac=RANSACRegressor(LinearRegression(), min_samples=50, residual_threshold=0.3)\n",
        "ransac.fit(x_train_std, y_train)"
      ],
      "metadata": {
        "id": "1WuIUyRj29qt",
        "colab": {
          "base_uri": "https://localhost:8080/",
          "height": 116
        },
        "outputId": "830e9c86-2ec6-4e09-bddf-3535bbd5ea82"
      },
      "execution_count": null,
      "outputs": [
        {
          "output_type": "execute_result",
          "data": {
            "text/plain": [
              "RANSACRegressor(estimator=LinearRegression(), min_samples=50,\n",
              "                residual_threshold=0.3)"
            ],
            "text/html": [
              "<style>#sk-container-id-7 {color: black;background-color: white;}#sk-container-id-7 pre{padding: 0;}#sk-container-id-7 div.sk-toggleable {background-color: white;}#sk-container-id-7 label.sk-toggleable__label {cursor: pointer;display: block;width: 100%;margin-bottom: 0;padding: 0.3em;box-sizing: border-box;text-align: center;}#sk-container-id-7 label.sk-toggleable__label-arrow:before {content: \"▸\";float: left;margin-right: 0.25em;color: #696969;}#sk-container-id-7 label.sk-toggleable__label-arrow:hover:before {color: black;}#sk-container-id-7 div.sk-estimator:hover label.sk-toggleable__label-arrow:before {color: black;}#sk-container-id-7 div.sk-toggleable__content {max-height: 0;max-width: 0;overflow: hidden;text-align: left;background-color: #f0f8ff;}#sk-container-id-7 div.sk-toggleable__content pre {margin: 0.2em;color: black;border-radius: 0.25em;background-color: #f0f8ff;}#sk-container-id-7 input.sk-toggleable__control:checked~div.sk-toggleable__content {max-height: 200px;max-width: 100%;overflow: auto;}#sk-container-id-7 input.sk-toggleable__control:checked~label.sk-toggleable__label-arrow:before {content: \"▾\";}#sk-container-id-7 div.sk-estimator input.sk-toggleable__control:checked~label.sk-toggleable__label {background-color: #d4ebff;}#sk-container-id-7 div.sk-label input.sk-toggleable__control:checked~label.sk-toggleable__label {background-color: #d4ebff;}#sk-container-id-7 input.sk-hidden--visually {border: 0;clip: rect(1px 1px 1px 1px);clip: rect(1px, 1px, 1px, 1px);height: 1px;margin: -1px;overflow: hidden;padding: 0;position: absolute;width: 1px;}#sk-container-id-7 div.sk-estimator {font-family: monospace;background-color: #f0f8ff;border: 1px dotted black;border-radius: 0.25em;box-sizing: border-box;margin-bottom: 0.5em;}#sk-container-id-7 div.sk-estimator:hover {background-color: #d4ebff;}#sk-container-id-7 div.sk-parallel-item::after {content: \"\";width: 100%;border-bottom: 1px solid gray;flex-grow: 1;}#sk-container-id-7 div.sk-label:hover label.sk-toggleable__label {background-color: #d4ebff;}#sk-container-id-7 div.sk-serial::before {content: \"\";position: absolute;border-left: 1px solid gray;box-sizing: border-box;top: 0;bottom: 0;left: 50%;z-index: 0;}#sk-container-id-7 div.sk-serial {display: flex;flex-direction: column;align-items: center;background-color: white;padding-right: 0.2em;padding-left: 0.2em;position: relative;}#sk-container-id-7 div.sk-item {position: relative;z-index: 1;}#sk-container-id-7 div.sk-parallel {display: flex;align-items: stretch;justify-content: center;background-color: white;position: relative;}#sk-container-id-7 div.sk-item::before, #sk-container-id-7 div.sk-parallel-item::before {content: \"\";position: absolute;border-left: 1px solid gray;box-sizing: border-box;top: 0;bottom: 0;left: 50%;z-index: -1;}#sk-container-id-7 div.sk-parallel-item {display: flex;flex-direction: column;z-index: 1;position: relative;background-color: white;}#sk-container-id-7 div.sk-parallel-item:first-child::after {align-self: flex-end;width: 50%;}#sk-container-id-7 div.sk-parallel-item:last-child::after {align-self: flex-start;width: 50%;}#sk-container-id-7 div.sk-parallel-item:only-child::after {width: 0;}#sk-container-id-7 div.sk-dashed-wrapped {border: 1px dashed gray;margin: 0 0.4em 0.5em 0.4em;box-sizing: border-box;padding-bottom: 0.4em;background-color: white;}#sk-container-id-7 div.sk-label label {font-family: monospace;font-weight: bold;display: inline-block;line-height: 1.2em;}#sk-container-id-7 div.sk-label-container {text-align: center;}#sk-container-id-7 div.sk-container {/* jupyter's `normalize.less` sets `[hidden] { display: none; }` but bootstrap.min.css set `[hidden] { display: none !important; }` so we also need the `!important` here to be able to override the default hidden behavior on the sphinx rendered scikit-learn.org. See: https://github.com/scikit-learn/scikit-learn/issues/21755 */display: inline-block !important;position: relative;}#sk-container-id-7 div.sk-text-repr-fallback {display: none;}</style><div id=\"sk-container-id-7\" class=\"sk-top-container\"><div class=\"sk-text-repr-fallback\"><pre>RANSACRegressor(estimator=LinearRegression(), min_samples=50,\n",
              "                residual_threshold=0.3)</pre><b>In a Jupyter environment, please rerun this cell to show the HTML representation or trust the notebook. <br />On GitHub, the HTML representation is unable to render, please try loading this page with nbviewer.org.</b></div><div class=\"sk-container\" hidden><div class=\"sk-item sk-dashed-wrapped\"><div class=\"sk-label-container\"><div class=\"sk-label sk-toggleable\"><input class=\"sk-toggleable__control sk-hidden--visually\" id=\"sk-estimator-id-13\" type=\"checkbox\" ><label for=\"sk-estimator-id-13\" class=\"sk-toggleable__label sk-toggleable__label-arrow\">RANSACRegressor</label><div class=\"sk-toggleable__content\"><pre>RANSACRegressor(estimator=LinearRegression(), min_samples=50,\n",
              "                residual_threshold=0.3)</pre></div></div></div><div class=\"sk-parallel\"><div class=\"sk-parallel-item\"><div class=\"sk-item\"><div class=\"sk-label-container\"><div class=\"sk-label sk-toggleable\"><input class=\"sk-toggleable__control sk-hidden--visually\" id=\"sk-estimator-id-14\" type=\"checkbox\" ><label for=\"sk-estimator-id-14\" class=\"sk-toggleable__label sk-toggleable__label-arrow\">estimator: LinearRegression</label><div class=\"sk-toggleable__content\"><pre>LinearRegression()</pre></div></div></div><div class=\"sk-serial\"><div class=\"sk-item\"><div class=\"sk-estimator sk-toggleable\"><input class=\"sk-toggleable__control sk-hidden--visually\" id=\"sk-estimator-id-15\" type=\"checkbox\" ><label for=\"sk-estimator-id-15\" class=\"sk-toggleable__label sk-toggleable__label-arrow\">LinearRegression</label><div class=\"sk-toggleable__content\"><pre>LinearRegression()</pre></div></div></div></div></div></div></div></div></div></div>"
            ]
          },
          "metadata": {},
          "execution_count": 99
        }
      ]
    },
    {
      "cell_type": "code",
      "source": [
        "print(ransac.inlier_mask_)"
      ],
      "metadata": {
        "id": "vcPxfXoJ4v9W",
        "colab": {
          "base_uri": "https://localhost:8080/"
        },
        "outputId": "53e05537-d572-4392-ec83-8dad844f4046"
      },
      "execution_count": null,
      "outputs": [
        {
          "output_type": "stream",
          "name": "stdout",
          "text": [
            "[ True  True  True ...  True  True  True]\n"
          ]
        }
      ]
    },
    {
      "cell_type": "code",
      "source": [
        "outlier=np.logical_not(ransac.inlier_mask_)\n",
        "print(outlier)"
      ],
      "metadata": {
        "id": "Zs1aq-eh415R",
        "colab": {
          "base_uri": "https://localhost:8080/"
        },
        "outputId": "8820a82e-a0ee-46a5-8e53-5ba8d508689d"
      },
      "execution_count": null,
      "outputs": [
        {
          "output_type": "stream",
          "name": "stdout",
          "text": [
            "[False False False ... False False False]\n"
          ]
        }
      ]
    },
    {
      "cell_type": "code",
      "source": [
        "ransac_train_result=ransac.predict(x_train_std)\n",
        "ransac_test_result=ransac.predict(x_test_std)\n",
        "print('Training results: ')\n",
        "ransac_train_mse = mean_squared_error(y_train, ransac_train_result)\n",
        "print(\"MSE: \", ransac_train_mse)\n",
        "ransac_train_r2 = r2_score(y_train, ransac_train_result)\n",
        "print(\"R2_score: \", ransac_train_r2)\n",
        "print('Testing results: ')\n",
        "ransac_test_mse=mean_squared_error(y_test, ransac_test_result)\n",
        "print(\"MSE: \", ransac_test_mse)\n",
        "ransac_test_r2=r2_score(y_test, ransac_test_result)\n",
        "print(\"R2_score: \", ransac_test_r2)"
      ],
      "metadata": {
        "id": "rk7fowVQ5Bk5",
        "colab": {
          "base_uri": "https://localhost:8080/"
        },
        "outputId": "2329dee8-4c4e-469d-ec9a-101fcc6bb797"
      },
      "execution_count": null,
      "outputs": [
        {
          "output_type": "stream",
          "name": "stdout",
          "text": [
            "Training results: \n",
            "MSE:  1.4280433334619475e-05\n",
            "R2_score:  0.999832104697807\n",
            "Testing results: \n",
            "MSE:  0.0001017892981540762\n",
            "R2_score:  0.9987823892288538\n"
          ]
        }
      ]
    },
    {
      "cell_type": "markdown",
      "source": [],
      "metadata": {
        "id": "7G5uKQTR6A8a"
      }
    },
    {
      "cell_type": "code",
      "source": [
        "from sklearn.tree import DecisionTreeRegressor\n",
        "dt = DecisionTreeRegressor()\n",
        "dt.fit(x_train_std, y_train)\n",
        "dt_train_result=dt.predict(x_train_std)\n",
        "dt_test_result=dt.predict(x_test_std)\n",
        "print('Training results: ')\n",
        "dt_train_mse=mean_squared_error(y_train, dt_train_result)\n",
        "print(\"MSE: \", dt_train_mse)\n",
        "dt_train_r2=r2_score(y_train, dt_train_result)\n",
        "print(\"R2_score: \", dt_train_r2)\n",
        "print(\"Testing results: \")\n",
        "dt_test_mse=mean_squared_error(y_test, dt_test_result)\n",
        "print(\"MSE: \", dt_test_mse)\n",
        "dt_test_r2=r2_score(y_test, dt_test_result)\n",
        "print(\"R2_score: \", dt_test_r2)"
      ],
      "metadata": {
        "id": "3OFrBLBQ8a7K",
        "colab": {
          "base_uri": "https://localhost:8080/"
        },
        "outputId": "bc4a8f23-32e7-4d85-e575-a485583393ff"
      },
      "execution_count": null,
      "outputs": [
        {
          "output_type": "stream",
          "name": "stdout",
          "text": [
            "Training results: \n",
            "MSE:  5.204938602368489e-35\n",
            "R2_score:  1.0\n",
            "Testing results: \n",
            "MSE:  0.0001089228890609263\n",
            "R2_score:  0.9986970567107734\n"
          ]
        }
      ]
    },
    {
      "cell_type": "code",
      "source": [
        "from sklearn.svm import SVR\n",
        "svr = SVR(kernel='linear')\n",
        "svr.fit(x_train_std, y_train)\n",
        "svr_train_result=svr.predict(x_train_std)\n",
        "svr_test_result=svr.predict(x_test_std)\n",
        "print('Training results: ')\n",
        "svr_train_mse=mean_squared_error(y_train, svr_train_result)\n",
        "print(\"MSE: \", svr_train_mse)\n",
        "svr_train_r2=r2_score(y_train, svr_train_result)\n",
        "print(\"R2_score: \", svr_train_r2)\n",
        "print(\"Testing results: \")\n",
        "svr_test_mse=mean_squared_error(y_test, svr_test_result)\n",
        "print(\"MSE: \", svr_test_mse)\n",
        "svr_test_r2=r2_score(y_test, svr_test_result)\n",
        "print(\"R2_score: \", svr_test_r2)"
      ],
      "metadata": {
        "id": "T5HeqrKY86v7",
        "colab": {
          "base_uri": "https://localhost:8080/"
        },
        "outputId": "df5ca9f0-b549-4fce-baa8-0be35325b7ed"
      },
      "execution_count": null,
      "outputs": [
        {
          "output_type": "stream",
          "name": "stdout",
          "text": [
            "Training results: \n",
            "MSE:  0.0039691006284828185\n",
            "R2_score:  0.9533352151269772\n",
            "Testing results: \n",
            "MSE:  0.003742688106314059\n",
            "R2_score:  0.9552297006273603\n"
          ]
        }
      ]
    },
    {
      "cell_type": "code",
      "source": [
        "import matplotlib.pyplot as plt\n",
        "# Create a comparative visualization\n",
        "plt.figure(figsize=(10, 4))\n",
        "models = ['LinearRegression', 'RANSAC', 'Decision tree', 'SVR']\n",
        "mse_scores = [lr_test_mse, ransac_test_mse, dt_test_mse, svr_test_mse]\n",
        "# Plot Mean Squared Error (MSE)\n",
        "\n",
        "plt.bar(models, mse_scores, color=['blue', 'purple', 'red', 'yellow'])\n",
        "plt.xlabel('Models')\n",
        "plt.ylabel('Mean Squared Error (MSE)')\n",
        "plt.title('Comparative MSE Scores')"
      ],
      "metadata": {
        "id": "pIfRq3x8LiU3",
        "colab": {
          "base_uri": "https://localhost:8080/",
          "height": 427
        },
        "outputId": "b7a66513-6d92-4264-ce4c-30ac09d2cc95"
      },
      "execution_count": null,
      "outputs": [
        {
          "output_type": "execute_result",
          "data": {
            "text/plain": [
              "Text(0.5, 1.0, 'Comparative MSE Scores')"
            ]
          },
          "metadata": {},
          "execution_count": 105
        },
        {
          "output_type": "display_data",
          "data": {
            "text/plain": [
              "<Figure size 1000x400 with 1 Axes>"
            ],
            "image/png": "[encoded data removed]"
          },
          "metadata": {}
        }
      ]
    },
    {
      "cell_type": "code",
      "source": [
        "# Create a comparative visualization\n",
        "plt.figure(figsize=(10, 4))\n",
        "models = ['LinearRegression', 'RANSAC','Decision tree', 'SVR']\n",
        "r2_scores = [lr_test_r2, ransac_test_r2, dt_test_r2, svr_test_r2]\n",
        "# Plot R2 Score\n",
        "\n",
        "plt.bar(models, r2_scores, color=['blue', 'green', 'purple', 'red'])\n",
        "plt.xlabel('Models')\n",
        "plt.ylabel('R2 Score')\n",
        "plt.title('Comparative R2 Scores')\n",
        "plt.show()"
      ],
      "metadata": {
        "id": "M2dfjlLnNBNH",
        "colab": {
          "base_uri": "https://localhost:8080/",
          "height": 410
        },
        "outputId": "b030819a-68b7-445d-9e72-667ac3124811"
      },
      "execution_count": null,
      "outputs": [
        {
          "output_type": "display_data",
          "data": {
            "text/plain": [
              "<Figure size 1000x400 with 1 Axes>"
            ],
            "image/png": "[encoded data removed]"
          },
          "metadata": {}
        }
      ]
    },
    {
      "cell_type": "code",
      "source": [
        "models = {\n",
        "    \"LinearRegression\": LinearRegression(),\n",
        "    \"RANSAC\": RANSACRegressor(),\n",
        "    \"Decision tree\": DecisionTreeRegressor(),\n",
        "    \"SVR\": SVR()\n",
        "}"
      ],
      "metadata": {
        "id": "Re0gR3x2ZCuJ"
      },
      "execution_count": null,
      "outputs": []
    },
    {
      "cell_type": "code",
      "source": [
        "import pandas as pd\n",
        "\n",
        "# Create a dictionary to store the results\n",
        "results = {\n",
        "    \"Model\": [],\n",
        "    \"Train Accuracy\": [],\n",
        "    \"Test Accuracy\": [],\n",
        "    \"R2 Score\": [],\n",
        "    \"MSE\": [],\n",
        "}\n",
        "\n",
        "# Loop through the models and collect the results\n",
        "for name, model in models.items():\n",
        "    model.fit(x_train_std, y_train)\n",
        "    y_pred = model.predict(x_test_std)\n",
        "\n",
        "    train_accuracy = model.score(x_train_std, y_train)\n",
        "    test_accuracy = model.score(x_test_std, y_test)\n",
        "    r2 = r2_score(y_test, y_pred)\n",
        "    mse = mean_squared_error(y_test, y_pred)\n",
        "\n",
        "    results[\"Model\"].append(name)\n",
        "    results[\"Train Accuracy\"].append(train_accuracy)\n",
        "    results[\"Test Accuracy\"].append(test_accuracy)\n",
        "    results[\"R2 Score\"].append(r2)\n",
        "    results[\"MSE\"].append(mse)\n",
        "\n",
        "# Create a pandas DataFrame from the results dictionary\n",
        "df = pd.DataFrame(results)\n",
        "\n",
        "# Print the DataFrame\n",
        "print(df.to_string())\n"
      ],
      "metadata": {
        "id": "6g6uKhObaLaD",
        "colab": {
          "base_uri": "https://localhost:8080/"
        },
        "outputId": "91a1c7c4-e9e9-467f-9cbf-76133aefd93d"
      },
      "execution_count": null,
      "outputs": [
        {
          "output_type": "stream",
          "name": "stdout",
          "text": [
            "              Model  Train Accuracy  Test Accuracy  R2 Score       MSE\n",
            "0  LinearRegression        0.999832       0.998782  0.998782  0.000102\n",
            "1            RANSAC        0.999832       0.998782  0.998782  0.000102\n",
            "2     Decision tree        1.000000       0.998689  0.998689  0.000110\n",
            "3               SVR        0.953705       0.954256  0.954256  0.003824\n"
          ]
        }
      ]
    },
    {
      "cell_type": "code",
      "source": [
        "from sklearn.model_selection import GridSearchCV\n",
        "\n",
        "# Define the models\n",
        "models = {\n",
        "    \"LinearRegression\": LinearRegression(),\n",
        "    \"RANSAC\": RANSACRegressor(),\n",
        "    \"Decision tree\": DecisionTreeRegressor(),\n",
        "    \"SVR\": SVR()\n",
        "}\n",
        "\n",
        "# Define the hyperparameter grids\n",
        "param_grids = {\n",
        "    \"LinearRegression\": {},\n",
        "    \"RANSAC\": {\n",
        "        \"min_samples\": [50, 100, 150],\n",
        "        \"residual_threshold\": [5, 10, 15]\n",
        "    },\n",
        "    \"Decision tree\": {\n",
        "        \"max_depth\": [5, 10, 15],\n",
        "        \"min_samples_leaf\": [10, 20, 30]\n",
        "    },\n",
        "    \"SVR\": {\n",
        "        \"kernel\": [\"linear\", \"rbf\"],\n",
        "        \"C\": [1, 10, 100]\n",
        "    }\n",
        "}\n",
        "\n",
        "# Create a GridSearchCV object for each model\n",
        "grid_searches = {}\n",
        "for name, model in models.items():\n",
        "    grid_searches[name] = GridSearchCV(model, param_grids[name], cv=5)\n",
        "\n",
        "# Fit each GridSearchCV object to the data\n",
        "for name, grid_search in grid_searches.items():\n",
        "    grid_search.fit(x_train_std, y_train)\n",
        "\n",
        "# Print the best parameters and scores for each model\n",
        "for name, grid_search in grid_searches.items():\n",
        "    print(f\"Model: {name}\")\n",
        "    print(f\"Best parameters: {grid_search.best_params_}\")\n",
        "    print(f\"Best score: {grid_search.best_score_}\")\n",
        "    print()\n"
      ],
      "metadata": {
        "id": "Ey_-qzMCK_0s",
        "colab": {
          "base_uri": "https://localhost:8080/"
        },
        "outputId": "c9854ca2-0ce5-4175-931a-eb46e284d3ec"
      },
      "execution_count": null,
      "outputs": [
        {
          "output_type": "stream",
          "name": "stdout",
          "text": [
            "Model: LinearRegression\n",
            "Best parameters: {}\n",
            "Best score: 0.9998311382467471\n",
            "\n",
            "Model: RANSAC\n",
            "Best parameters: {'min_samples': 50, 'residual_threshold': 5}\n",
            "Best score: 0.9998311382467471\n",
            "\n",
            "Model: Decision tree\n",
            "Best parameters: {'max_depth': 10, 'min_samples_leaf': 10}\n",
            "Best score: 0.9998268229326837\n",
            "\n",
            "Model: SVR\n",
            "Best parameters: {'C': 1, 'kernel': 'rbf'}\n",
            "Best score: 0.9532844012072171\n",
            "\n"
          ]
        }
      ]
    }
  ]
}